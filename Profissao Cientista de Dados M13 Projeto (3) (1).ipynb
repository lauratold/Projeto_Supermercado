{
 "cells": [
  {
   "cell_type": "markdown",
   "metadata": {
    "id": "VOTu7U3Mvxzq"
   },
   "source": [
    "# **MÓDULO 13**\n",
    "# Projeto - Fundamentos da Descoberta de Dados"
   ]
  },
  {
   "cell_type": "markdown",
   "metadata": {
    "id": "-HYgkdAywLd0"
   },
   "source": [
    "Nesse projeto trabalharemos com a base de dados de produtos de um supermercado do Chile.\n",
    "A ideia é que vocês apliquem os conceitos estatísticos vistos no último módulo, mais os conceitos de visualizações de dados através de gráficos e finalizem publicando no seu github!"
   ]
  },
  {
   "cell_type": "code",
   "execution_count": 1,
   "metadata": {
    "id": "OTdTnbzUwE2X"
   },
   "outputs": [],
   "source": [
    "import pandas as pd \n",
    "import seaborn as sns\n",
    "import matplotlib.pyplot as plt\n",
    "import plotly.express as px"
   ]
  },
  {
   "cell_type": "markdown",
   "metadata": {
    "id": "ky1Dk_KWywEa"
   },
   "source": [
    "Faça a leitura dos dados do arquivo CSV:\n",
    "\n",
    "\n",
    "Altere o código abaixo de acordo com seu diretório."
   ]
  },
  {
   "cell_type": "code",
   "execution_count": 2,
   "metadata": {
    "colab": {
     "base_uri": "https://localhost:8080/",
     "height": 363
    },
    "id": "bRBFyVB5wlny",
    "outputId": "cde5190b-fecf-48f8-e98c-5ec7e469bcfb"
   },
   "outputs": [
    {
     "name": "stdout",
     "output_type": "stream",
     "text": [
      "                                              title       Marca  Preco_Normal  \\\n",
      "0              Pack 12 un, Leche extra proteína 1 L  Loncoleche         19788   \n",
      "1   Pack 12 un, Leche chocolate receta original 1 L     Soprole         18228   \n",
      "2    Pack 12 un, Leche semidescremada chocolate 1 L     Soprole         18228   \n",
      "3     Pack 12 un, Leche semidescremada frutilla 1 L     Soprole         18228   \n",
      "4       Pack 12 un, Leche sin lactosa chocolate 1 L  Loncoleche         17988   \n",
      "5        Pack 12 un, Leche sin lactosa frutilla 1 L  Loncoleche         17988   \n",
      "6  Pack 12 un, Leche saborizada light chocolate 1 L  Loncoleche         17988   \n",
      "7         Pack 12 un, Leche saborizada frutilla 1 L       Colun         17388   \n",
      "8         Pack 12 un, Leche saborizada vainilla 1 L       Colun         17388   \n",
      "9           Pack 12 un, Leche saborizada manjar 1 L       Colun         17388   \n",
      "\n",
      "   Preco_Desconto  Preco_Anterior  Desconto Categoria  \n",
      "0               0               0         0   lacteos  \n",
      "1               0               0         0   lacteos  \n",
      "2               0               0         0   lacteos  \n",
      "3               0               0         0   lacteos  \n",
      "4               0               0         0   lacteos  \n",
      "5               0               0         0   lacteos  \n",
      "6               0               0         0   lacteos  \n",
      "7               0               0         0   lacteos  \n",
      "8               0               0         0   lacteos  \n",
      "9               0               0         0   lacteos  \n"
     ]
    }
   ],
   "source": [
    "df = pd.read_csv(\"MODULO7_PROJETOFINAL_BASE_SUPERMERCADO.csv\", delimiter=\",\", quotechar='\"')\n",
    "\n",
    "pd.set_option('display.max_columns', None)\n",
    "pd.set_option('display.width', None)\n",
    "pd.set_option('display.max_colwidth', None)\n",
    "\n",
    "print(df.head(10))"
   ]
  },
  {
   "cell_type": "markdown",
   "metadata": {
    "id": "YJgKJ7Nxwtw2"
   },
   "source": [
    "Os campos do nosso dataframe são:\n",
    "\n",
    "**Title:** Nome do produto.\n",
    "\n",
    "\n",
    "**Marca:** A marca do produto.\n",
    "\n",
    "\n",
    "**Preco_Normal:** O preço em que o produto costuma ser vendido quando não há desconto.\n",
    "\n",
    "\n",
    "**Preco_Desconto:** O preço vendido após o desconto ser aplicado.\n",
    "\n",
    "\n",
    "**Preco_Anterior:** Preço em que era comercializado o produto antes do desconto aplicado.\n",
    "\n",
    "\n",
    "**Desconto:** Total de desconto aplicado.\n",
    "\n",
    "\n",
    "\n",
    "\n",
    "\n",
    "\n",
    "As colunas que aparecem com valores 0 são para os produtos onde não tivemos descontos aplicados.\n",
    "\n",
    "\n",
    "As categorias estão em espanhol!"
   ]
  },
  {
   "cell_type": "markdown",
   "metadata": {
    "id": "4u6WBeyyy6ri"
   },
   "source": [
    "# 1 - Traga a média e a mediana dos preços - coluna Preco_Normal - por categoria de produto.\n",
    "# Identifique as categorias que parecem ter um valor de média abaixo ou acima da mediana."
   ]
  },
  {
   "cell_type": "code",
   "execution_count": 3,
   "metadata": {
    "id": "E7B7FolOzVcJ"
   },
   "outputs": [
    {
     "name": "stdout",
     "output_type": "stream",
     "text": [
      "              Categoria_upper        media  mediana\n",
      "0  BELLEZA-Y-CUIDADO-PERSONAL  1783.556485   1569.0\n",
      "1          COMIDAS-PREPARADAS  3095.043478   3290.0\n",
      "2                  CONGELADOS  2108.042553   1519.0\n",
      "3                      FRUTAS  1724.473684   1195.0\n",
      "4        INSTANTANEOS-Y-SOPAS   765.491228    439.0\n",
      "5                     LACTEOS  2385.219239    989.0\n",
      "6                    VERDURAS  1343.296875   1180.0\n"
     ]
    }
   ],
   "source": [
    "df['Categoria_upper'] = df['Categoria'].str.upper()\n",
    "\n",
    "preco_por_categoria = df.groupby('Categoria_upper')['Preco_Normal'].agg(\n",
    "    media='mean',\n",
    "    mediana='median'\n",
    ").reset_index()\n",
    "\n",
    "print(preco_por_categoria)"
   ]
  },
  {
   "cell_type": "markdown",
   "metadata": {
    "id": "nKBFOh-mzyWX"
   },
   "source": [
    "# comidas-preparadas está com a média abaixo da mediana, o restante estão todas acima."
   ]
  },
  {
   "cell_type": "markdown",
   "metadata": {
    "id": "jdHZurzDzca0"
   },
   "source": [
    "# 2 - Traga o desvio padrão por categoria de produto.\n",
    "# Qual o comportamento da média e mediana nas categorias com maior desvio?"
   ]
  },
  {
   "cell_type": "code",
   "execution_count": 4,
   "metadata": {
    "id": "xEXT1gtoz135"
   },
   "outputs": [
    {
     "name": "stdout",
     "output_type": "stream",
     "text": [
      "                    Categoria  desvio_padrao\n",
      "0  belleza-y-cuidado-personal    2210.041719\n",
      "1          comidas-preparadas    2019.911428\n",
      "2                  congelados    2111.539896\n",
      "3                      frutas    1639.151114\n",
      "4        instantaneos-y-sopas    1170.232869\n",
      "5                     lacteos    3925.816164\n",
      "6                    verduras    1012.699625\n"
     ]
    }
   ],
   "source": [
    "desvio = df.groupby('Categoria')['Preco_Normal'].agg(\n",
    "    desvio_padrao='std'\n",
    ").reset_index()\n",
    "\n",
    "print(desvio)"
   ]
  },
  {
   "cell_type": "markdown",
   "metadata": {
    "id": "HzsLO4nOz3yJ"
   },
   "source": [
    "# As categorias com maior desvio padrão, como lácteos, congelados e beleza e cuidados pessoais, têm média maior que a mediana, o que indica que há produtos muito caros puxando a média para cima (outliers)."
   ]
  },
  {
   "cell_type": "markdown",
   "metadata": {
    "id": "4aW51rCHBr2w"
   },
   "source": [
    "# 3 - Plot um boxplot da distribuição do Preco_Normal para a categoria que você identificou que tem o maior desvio padrão. Como é a distribuição desses dados segundo o boxplot? Você identifica muitos outliers?"
   ]
  },
  {
   "cell_type": "markdown",
   "metadata": {
    "id": "kwPKkUZnEUSb"
   },
   "source": [
    "Dica: Para trazer apenas os dados da categoria que você deseja você pode usar o df.loc[df['Categoria'] == 'CATEGORIA ESCOLHIDA'"
   ]
  },
  {
   "cell_type": "code",
   "execution_count": 8,
   "metadata": {
    "id": "_02thblTCKEF"
   },
   "outputs": [
    {
     "data": {
      "image/png": "[encoded data removed]",
      "text/plain": [
       "<Figure size 800x600 with 1 Axes>"
      ]
     },
     "metadata": {},
     "output_type": "display_data"
    }
   ],
   "source": [
    "lacteos_df = df[df['Categoria'] == 'lacteos']\n",
    "\n",
    "plt.figure(figsize=(8, 6))\n",
    "sns.boxplot(data=lacteos_df, x='Preco_Normal', color='skyblue')\n",
    "plt.title('Distribuição de Preço Normal - Categoria: Lacteos')\n",
    "plt.xlabel('Preço Normal (R$)')\n",
    "plt.grid(True)\n",
    "plt.tight_layout()\n",
    "plt.show()\n"
   ]
  },
  {
   "cell_type": "markdown",
   "metadata": {
    "id": "w5xgQBC_0Hg-"
   },
   "source": [
    "# 4 - Plote um gráfico de barras onde temos a média de descontos por categoria."
   ]
  },
  {
   "cell_type": "code",
   "execution_count": 9,
   "metadata": {
    "id": "DBj5zAdI0QfI"
   },
   "outputs": [
    {
     "data": {
      "image/png": "[encoded data removed]",
      "text/plain": [
       "<Figure size 1000x600 with 1 Axes>"
      ]
     },
     "metadata": {},
     "output_type": "display_data"
    }
   ],
   "source": [
    "media_descontos = df.groupby('Categoria')['Desconto'].mean().reset_index()\n",
    "\n",
    "# Passo 3: plotar gráfico de barras\n",
    "plt.figure(figsize=(10,6))\n",
    "plt.bar(media_descontos['Categoria'], media_descontos['Desconto'], color='skyblue')\n",
    "plt.xlabel('Categoria')\n",
    "plt.ylabel('Média de Descontos')\n",
    "plt.title('Média de Descontos por Categoria')\n",
    "plt.xticks(rotation=45)\n",
    "plt.tight_layout()\n",
    "plt.show()\n",
    "\n"
   ]
  },
  {
   "cell_type": "markdown",
   "metadata": {
    "id": "vqlx0w7E07uC"
   },
   "source": [
    "# 5 - Plote um gráfico de mapa interativo agrupando os dados por categoria, marca e trazendo a média de desconto."
   ]
  },
  {
   "cell_type": "code",
   "execution_count": 14,
   "metadata": {
    "id": "D-JWM64Q1NzB"
   },
   "outputs": [
    {
     "data": {
      "application/vnd.plotly.v1+json": {
       "config": {
        "plotlyServerURL": "https://plot.ly"
       },
       "data": [
        {
         "branchvalues": "total",
         "customdata": [
          [
           123.75
          ],
          [
           444.6666666666667
          ],
          [
           590
          ],
          [
           34.083333333333336
          ],
          [
           650
          ],
          [
           429.7857142857143
          ],
          [
           357.5
          ],
          [
           117.0952380952381
          ],
          [
           4.471264367816092
          ],
          [
           148.34285714285716
          ],
          [
           16.318181818181817
          ],
          [
           429.8666666666667
          ],
          [
           252.25
          ],
          [
           136.26666666666668
          ],
          [
           55.166666666666664
          ],
          [
           94.83333333333331
          ],
          [
           955
          ],
          [
           657
          ],
          [
           19.5
          ],
          [
           1.7674418604651163
          ],
          [
           869.8
          ],
          [
           103.45454545454545
          ],
          [
           210
          ],
          [
           160
          ],
          [
           797
          ],
          [
           88.55555555555556
          ],
          [
           200
          ],
          [
           684.8571428571429
          ],
          [
           344.3333333333333
          ],
          [
           304.5
          ],
          [
           660
          ],
          [
           795
          ],
          [
           660
          ],
          [
           795
          ],
          [
           164.25
          ],
          [
           70
          ],
          [
           149.5
          ],
          [
           456.15625
          ],
          [
           300
          ],
          [
           10.852941176470589
          ],
          [
           120
          ],
          [
           261
          ],
          [
           546
          ],
          [
           578.8140065831301
          ],
          [
           200
          ],
          [
           537.1966498262492
          ],
          [
           592.403238503298
          ]
         ],
         "domain": {
          "x": [
           0,
           1
          ],
          "y": [
           0,
           1
          ]
         },
         "hovertemplate": "labels=%{label}<br>Desconto_sum=%{value}<br>parent=%{parent}<br>id=%{id}<br>Desconto=%{color}<extra></extra>",
         "ids": [
          "belleza-y-cuidado-personal/Always",
          "belleza-y-cuidado-personal/Aquafresh",
          "belleza-y-cuidado-personal/Axe",
          "belleza-y-cuidado-personal/Ballerina",
          "belleza-y-cuidado-personal/BiO",
          "congelados/Bresler",
          "congelados/Carte Dor",
          "belleza-y-cuidado-personal/Colgate",
          "lacteos/Colun",
          "congelados/Cuisine & Co",
          "lacteos/Cuisine & Co",
          "belleza-y-cuidado-personal/Dove",
          "belleza-y-cuidado-personal/Dove Men",
          "congelados/Frutos Del Maipo",
          "belleza-y-cuidado-personal/Kotex",
          "belleza-y-cuidado-personal/Ladysoft",
          "congelados/Magnum",
          "congelados/Mega",
          "congelados/Minuto Verde",
          "lacteos/Nestlé",
          "lacteos/Nido",
          "belleza-y-cuidado-personal/Nosotras",
          "congelados/Not Burger",
          "lacteos/Not Milk",
          "belleza-y-cuidado-personal/Oral Fresh",
          "belleza-y-cuidado-personal/Oral-B",
          "comidas-preparadas/PF",
          "belleza-y-cuidado-personal/Pantene",
          "belleza-y-cuidado-personal/Pepsodent",
          "belleza-y-cuidado-personal/Protex",
          "belleza-y-cuidado-personal/Rexona",
          "belleza-y-cuidado-personal/Rexona Clinical",
          "belleza-y-cuidado-personal/Rexona Men",
          "belleza-y-cuidado-personal/Rexona Men Clinical",
          "congelados/Sahne Nuss",
          "congelados/San Jorge",
          "lacteos/Santa Marta",
          "congelados/Savory",
          "belleza-y-cuidado-personal/Simonds",
          "lacteos/Soprole",
          "congelados/Super Beef",
          "lacteos/Sureña",
          "congelados/Viennetta Bresler",
          "belleza-y-cuidado-personal",
          "comidas-preparadas",
          "congelados",
          "lacteos"
         ],
         "labels": [
          "Always",
          "Aquafresh",
          "Axe",
          "Ballerina",
          "BiO",
          "Bresler",
          "Carte Dor",
          "Colgate",
          "Colun",
          "Cuisine & Co",
          "Cuisine & Co",
          "Dove",
          "Dove Men",
          "Frutos Del Maipo",
          "Kotex",
          "Ladysoft",
          "Magnum",
          "Mega",
          "Minuto Verde",
          "Nestlé",
          "Nido",
          "Nosotras",
          "Not Burger",
          "Not Milk",
          "Oral Fresh",
          "Oral-B",
          "PF",
          "Pantene",
          "Pepsodent",
          "Protex",
          "Rexona",
          "Rexona Clinical",
          "Rexona Men",
          "Rexona Men Clinical",
          "Sahne Nuss",
          "San Jorge",
          "Santa Marta",
          "Savory",
          "Simonds",
          "Soprole",
          "Super Beef",
          "Sureña",
          "Viennetta Bresler",
          "belleza-y-cuidado-personal",
          "comidas-preparadas",
          "congelados",
          "lacteos"
         ],
         "marker": {
          "coloraxis": "coloraxis",
          "colors": [
           123.75,
           444.6666666666667,
           590,
           34.083333333333336,
           650,
           429.7857142857143,
           357.5,
           117.0952380952381,
           4.471264367816092,
           148.34285714285716,
           16.318181818181817,
           429.8666666666667,
           252.25,
           136.26666666666668,
           55.166666666666664,
           94.83333333333331,
           955,
           657,
           19.5,
           1.7674418604651163,
           869.8,
           103.45454545454545,
           210,
           160,
           797,
           88.55555555555556,
           200,
           684.8571428571429,
           344.3333333333333,
           304.5,
           660,
           795,
           660,
           795,
           164.25,
           70,
           149.5,
           456.15625,
           300,
           10.852941176470589,
           120,
           261,
           546,
           578.8140065831301,
           200,
           537.1966498262492,
           592.403238503298
          ]
         },
         "name": "",
         "parents": [
          "belleza-y-cuidado-personal",
          "belleza-y-cuidado-personal",
          "belleza-y-cuidado-personal",
          "belleza-y-cuidado-personal",
          "belleza-y-cuidado-personal",
          "congelados",
          "congelados",
          "belleza-y-cuidado-personal",
          "lacteos",
          "congelados",
          "lacteos",
          "belleza-y-cuidado-personal",
          "belleza-y-cuidado-personal",
          "congelados",
          "belleza-y-cuidado-personal",
          "belleza-y-cuidado-personal",
          "congelados",
          "congelados",
          "congelados",
          "lacteos",
          "lacteos",
          "belleza-y-cuidado-personal",
          "congelados",
          "lacteos",
          "belleza-y-cuidado-personal",
          "belleza-y-cuidado-personal",
          "comidas-preparadas",
          "belleza-y-cuidado-personal",
          "belleza-y-cuidado-personal",
          "belleza-y-cuidado-personal",
          "belleza-y-cuidado-personal",
          "belleza-y-cuidado-personal",
          "belleza-y-cuidado-personal",
          "belleza-y-cuidado-personal",
          "congelados",
          "congelados",
          "lacteos",
          "congelados",
          "belleza-y-cuidado-personal",
          "lacteos",
          "congelados",
          "lacteos",
          "congelados",
          "",
          "",
          "",
          ""
         ],
         "type": "treemap",
         "values": [
          123.75,
          444.6666666666667,
          590,
          34.083333333333336,
          650,
          429.7857142857143,
          357.5,
          117.0952380952381,
          4.471264367816092,
          148.34285714285716,
          16.318181818181817,
          429.8666666666667,
          252.25,
          136.26666666666668,
          55.166666666666664,
          94.83333333333333,
          955,
          657,
          19.5,
          1.7674418604651163,
          869.8,
          103.45454545454545,
          210,
          160,
          797,
          88.55555555555556,
          200,
          684.8571428571429,
          344.3333333333333,
          304.5,
          660,
          795,
          660,
          795,
          164.25,
          70,
          149.5,
          456.15625,
          300,
          10.852941176470589,
          120,
          261,
          546,
          8324.412481962481,
          200,
          4269.801488095238,
          1473.7098292229334
         ]
        }
       ],
       "layout": {
        "autosize": true,
        "coloraxis": {
         "colorbar": {
          "title": {
           "text": "Desconto"
          }
         },
         "colorscale": [
          [
           0,
           "rgb(247,251,255)"
          ],
          [
           0.125,
           "rgb(222,235,247)"
          ],
          [
           0.25,
           "rgb(198,219,239)"
          ],
          [
           0.375,
           "rgb(158,202,225)"
          ],
          [
           0.5,
           "rgb(107,174,214)"
          ],
          [
           0.625,
           "rgb(66,146,198)"
          ],
          [
           0.75,
           "rgb(33,113,181)"
          ],
          [
           0.875,
           "rgb(8,81,156)"
          ],
          [
           1,
           "rgb(8,48,107)"
          ]
         ]
        },
        "legend": {
         "tracegroupgap": 0
        },
        "template": {
         "data": {
          "bar": [
           {
            "error_x": {
             "color": "#2a3f5f"
            },
            "error_y": {
             "color": "#2a3f5f"
            },
            "marker": {
             "line": {
              "color": "#E5ECF6",
              "width": 0.5
             },
             "pattern": {
              "fillmode": "overlay",
              "size": 10,
              "solidity": 0.2
             }
            },
            "type": "bar"
           }
          ],
          "barpolar": [
           {
            "marker": {
             "line": {
              "color": "#E5ECF6",
              "width": 0.5
             },
             "pattern": {
              "fillmode": "overlay",
              "size": 10,
              "solidity": 0.2
             }
            },
            "type": "barpolar"
           }
          ],
          "carpet": [
           {
            "aaxis": {
             "endlinecolor": "#2a3f5f",
             "gridcolor": "white",
             "linecolor": "white",
             "minorgridcolor": "white",
             "startlinecolor": "#2a3f5f"
            },
            "baxis": {
             "endlinecolor": "#2a3f5f",
             "gridcolor": "white",
             "linecolor": "white",
             "minorgridcolor": "white",
             "startlinecolor": "#2a3f5f"
            },
            "type": "carpet"
           }
          ],
          "choropleth": [
           {
            "colorbar": {
             "outlinewidth": 0,
             "ticks": ""
            },
            "type": "choropleth"
           }
          ],
          "contour": [
           {
            "colorbar": {
             "outlinewidth": 0,
             "ticks": ""
            },
            "colorscale": [
             [
              0,
              "#0d0887"
             ],
             [
              0.1111111111111111,
              "#46039f"
             ],
             [
              0.2222222222222222,
              "#7201a8"
             ],
             [
              0.3333333333333333,
              "#9c179e"
             ],
             [
              0.4444444444444444,
              "#bd3786"
             ],
             [
              0.5555555555555556,
              "#d8576b"
             ],
             [
              0.6666666666666666,
              "#ed7953"
             ],
             [
              0.7777777777777778,
              "#fb9f3a"
             ],
             [
              0.8888888888888888,
              "#fdca26"
             ],
             [
              1,
              "#f0f921"
             ]
            ],
            "type": "contour"
           }
          ],
          "contourcarpet": [
           {
            "colorbar": {
             "outlinewidth": 0,
             "ticks": ""
            },
            "type": "contourcarpet"
           }
          ],
          "heatmap": [
           {
            "colorbar": {
             "outlinewidth": 0,
             "ticks": ""
            },
            "colorscale": [
             [
              0,
              "#0d0887"
             ],
             [
              0.1111111111111111,
              "#46039f"
             ],
             [
              0.2222222222222222,
              "#7201a8"
             ],
             [
              0.3333333333333333,
              "#9c179e"
             ],
             [
              0.4444444444444444,
              "#bd3786"
             ],
             [
              0.5555555555555556,
              "#d8576b"
             ],
             [
              0.6666666666666666,
              "#ed7953"
             ],
             [
              0.7777777777777778,
              "#fb9f3a"
             ],
             [
              0.8888888888888888,
              "#fdca26"
             ],
             [
              1,
              "#f0f921"
             ]
            ],
            "type": "heatmap"
           }
          ],
          "heatmapgl": [
           {
            "colorbar": {
             "outlinewidth": 0,
             "ticks": ""
            },
            "colorscale": [
             [
              0,
              "#0d0887"
             ],
             [
              0.1111111111111111,
              "#46039f"
             ],
             [
              0.2222222222222222,
              "#7201a8"
             ],
             [
              0.3333333333333333,
              "#9c179e"
             ],
             [
              0.4444444444444444,
              "#bd3786"
             ],
             [
              0.5555555555555556,
              "#d8576b"
             ],
             [
              0.6666666666666666,
              "#ed7953"
             ],
             [
              0.7777777777777778,
              "#fb9f3a"
             ],
             [
              0.8888888888888888,
              "#fdca26"
             ],
             [
              1,
              "#f0f921"
             ]
            ],
            "type": "heatmapgl"
           }
          ],
          "histogram": [
           {
            "marker": {
             "pattern": {
              "fillmode": "overlay",
              "size": 10,
              "solidity": 0.2
             }
            },
            "type": "histogram"
           }
          ],
          "histogram2d": [
           {
            "colorbar": {
             "outlinewidth": 0,
             "ticks": ""
            },
            "colorscale": [
             [
              0,
              "#0d0887"
             ],
             [
              0.1111111111111111,
              "#46039f"
             ],
             [
              0.2222222222222222,
              "#7201a8"
             ],
             [
              0.3333333333333333,
              "#9c179e"
             ],
             [
              0.4444444444444444,
              "#bd3786"
             ],
             [
              0.5555555555555556,
              "#d8576b"
             ],
             [
              0.6666666666666666,
              "#ed7953"
             ],
             [
              0.7777777777777778,
              "#fb9f3a"
             ],
             [
              0.8888888888888888,
              "#fdca26"
             ],
             [
              1,
              "#f0f921"
             ]
            ],
            "type": "histogram2d"
           }
          ],
          "histogram2dcontour": [
           {
            "colorbar": {
             "outlinewidth": 0,
             "ticks": ""
            },
            "colorscale": [
             [
              0,
              "#0d0887"
             ],
             [
              0.1111111111111111,
              "#46039f"
             ],
             [
              0.2222222222222222,
              "#7201a8"
             ],
             [
              0.3333333333333333,
              "#9c179e"
             ],
             [
              0.4444444444444444,
              "#bd3786"
             ],
             [
              0.5555555555555556,
              "#d8576b"
             ],
             [
              0.6666666666666666,
              "#ed7953"
             ],
             [
              0.7777777777777778,
              "#fb9f3a"
             ],
             [
              0.8888888888888888,
              "#fdca26"
             ],
             [
              1,
              "#f0f921"
             ]
            ],
            "type": "histogram2dcontour"
           }
          ],
          "mesh3d": [
           {
            "colorbar": {
             "outlinewidth": 0,
             "ticks": ""
            },
            "type": "mesh3d"
           }
          ],
          "parcoords": [
           {
            "line": {
             "colorbar": {
              "outlinewidth": 0,
              "ticks": ""
             }
            },
            "type": "parcoords"
           }
          ],
          "pie": [
           {
            "automargin": true,
            "type": "pie"
           }
          ],
          "scatter": [
           {
            "fillpattern": {
             "fillmode": "overlay",
             "size": 10,
             "solidity": 0.2
            },
            "type": "scatter"
           }
          ],
          "scatter3d": [
           {
            "line": {
             "colorbar": {
              "outlinewidth": 0,
              "ticks": ""
             }
            },
            "marker": {
             "colorbar": {
              "outlinewidth": 0,
              "ticks": ""
             }
            },
            "type": "scatter3d"
           }
          ],
          "scattercarpet": [
           {
            "marker": {
             "colorbar": {
              "outlinewidth": 0,
              "ticks": ""
             }
            },
            "type": "scattercarpet"
           }
          ],
          "scattergeo": [
           {
            "marker": {
             "colorbar": {
              "outlinewidth": 0,
              "ticks": ""
             }
            },
            "type": "scattergeo"
           }
          ],
          "scattergl": [
           {
            "marker": {
             "colorbar": {
              "outlinewidth": 0,
              "ticks": ""
             }
            },
            "type": "scattergl"
           }
          ],
          "scattermapbox": [
           {
            "marker": {
             "colorbar": {
              "outlinewidth": 0,
              "ticks": ""
             }
            },
            "type": "scattermapbox"
           }
          ],
          "scatterpolar": [
           {
            "marker": {
             "colorbar": {
              "outlinewidth": 0,
              "ticks": ""
             }
            },
            "type": "scatterpolar"
           }
          ],
          "scatterpolargl": [
           {
            "marker": {
             "colorbar": {
              "outlinewidth": 0,
              "ticks": ""
             }
            },
            "type": "scatterpolargl"
           }
          ],
          "scatterternary": [
           {
            "marker": {
             "colorbar": {
              "outlinewidth": 0,
              "ticks": ""
             }
            },
            "type": "scatterternary"
           }
          ],
          "surface": [
           {
            "colorbar": {
             "outlinewidth": 0,
             "ticks": ""
            },
            "colorscale": [
             [
              0,
              "#0d0887"
             ],
             [
              0.1111111111111111,
              "#46039f"
             ],
             [
              0.2222222222222222,
              "#7201a8"
             ],
             [
              0.3333333333333333,
              "#9c179e"
             ],
             [
              0.4444444444444444,
              "#bd3786"
             ],
             [
              0.5555555555555556,
              "#d8576b"
             ],
             [
              0.6666666666666666,
              "#ed7953"
             ],
             [
              0.7777777777777778,
              "#fb9f3a"
             ],
             [
              0.8888888888888888,
              "#fdca26"
             ],
             [
              1,
              "#f0f921"
             ]
            ],
            "type": "surface"
           }
          ],
          "table": [
           {
            "cells": {
             "fill": {
              "color": "#EBF0F8"
             },
             "line": {
              "color": "white"
             }
            },
            "header": {
             "fill": {
              "color": "#C8D4E3"
             },
             "line": {
              "color": "white"
             }
            },
            "type": "table"
           }
          ]
         },
         "layout": {
          "annotationdefaults": {
           "arrowcolor": "#2a3f5f",
           "arrowhead": 0,
           "arrowwidth": 1
          },
          "autotypenumbers": "strict",
          "coloraxis": {
           "colorbar": {
            "outlinewidth": 0,
            "ticks": ""
           }
          },
          "colorscale": {
           "diverging": [
            [
             0,
             "#8e0152"
            ],
            [
             0.1,
             "#c51b7d"
            ],
            [
             0.2,
             "#de77ae"
            ],
            [
             0.3,
             "#f1b6da"
            ],
            [
             0.4,
             "#fde0ef"
            ],
            [
             0.5,
             "#f7f7f7"
            ],
            [
             0.6,
             "#e6f5d0"
            ],
            [
             0.7,
             "#b8e186"
            ],
            [
             0.8,
             "#7fbc41"
            ],
            [
             0.9,
             "#4d9221"
            ],
            [
             1,
             "#276419"
            ]
           ],
           "sequential": [
            [
             0,
             "#0d0887"
            ],
            [
             0.1111111111111111,
             "#46039f"
            ],
            [
             0.2222222222222222,
             "#7201a8"
            ],
            [
             0.3333333333333333,
             "#9c179e"
            ],
            [
             0.4444444444444444,
             "#bd3786"
            ],
            [
             0.5555555555555556,
             "#d8576b"
            ],
            [
             0.6666666666666666,
             "#ed7953"
            ],
            [
             0.7777777777777778,
             "#fb9f3a"
            ],
            [
             0.8888888888888888,
             "#fdca26"
            ],
            [
             1,
             "#f0f921"
            ]
           ],
           "sequentialminus": [
            [
             0,
             "#0d0887"
            ],
            [
             0.1111111111111111,
             "#46039f"
            ],
            [
             0.2222222222222222,
             "#7201a8"
            ],
            [
             0.3333333333333333,
             "#9c179e"
            ],
            [
             0.4444444444444444,
             "#bd3786"
            ],
            [
             0.5555555555555556,
             "#d8576b"
            ],
            [
             0.6666666666666666,
             "#ed7953"
            ],
            [
             0.7777777777777778,
             "#fb9f3a"
            ],
            [
             0.8888888888888888,
             "#fdca26"
            ],
            [
             1,
             "#f0f921"
            ]
           ]
          },
          "colorway": [
           "#636efa",
           "#EF553B",
           "#00cc96",
           "#ab63fa",
           "#FFA15A",
           "#19d3f3",
           "#FF6692",
           "#B6E880",
           "#FF97FF",
           "#FECB52"
          ],
          "font": {
           "color": "#2a3f5f"
          },
          "geo": {
           "bgcolor": "white",
           "lakecolor": "white",
           "landcolor": "#E5ECF6",
           "showlakes": true,
           "showland": true,
           "subunitcolor": "white"
          },
          "hoverlabel": {
           "align": "left"
          },
          "hovermode": "closest",
          "mapbox": {
           "style": "light"
          },
          "paper_bgcolor": "white",
          "plot_bgcolor": "#E5ECF6",
          "polar": {
           "angularaxis": {
            "gridcolor": "white",
            "linecolor": "white",
            "ticks": ""
           },
           "bgcolor": "#E5ECF6",
           "radialaxis": {
            "gridcolor": "white",
            "linecolor": "white",
            "ticks": ""
           }
          },
          "scene": {
           "xaxis": {
            "backgroundcolor": "#E5ECF6",
            "gridcolor": "white",
            "gridwidth": 2,
            "linecolor": "white",
            "showbackground": true,
            "ticks": "",
            "zerolinecolor": "white"
           },
           "yaxis": {
            "backgroundcolor": "#E5ECF6",
            "gridcolor": "white",
            "gridwidth": 2,
            "linecolor": "white",
            "showbackground": true,
            "ticks": "",
            "zerolinecolor": "white"
           },
           "zaxis": {
            "backgroundcolor": "#E5ECF6",
            "gridcolor": "white",
            "gridwidth": 2,
            "linecolor": "white",
            "showbackground": true,
            "ticks": "",
            "zerolinecolor": "white"
           }
          },
          "shapedefaults": {
           "line": {
            "color": "#2a3f5f"
           }
          },
          "ternary": {
           "aaxis": {
            "gridcolor": "white",
            "linecolor": "white",
            "ticks": ""
           },
           "baxis": {
            "gridcolor": "white",
            "linecolor": "white",
            "ticks": ""
           },
           "bgcolor": "#E5ECF6",
           "caxis": {
            "gridcolor": "white",
            "linecolor": "white",
            "ticks": ""
           }
          },
          "title": {
           "x": 0.05
          },
          "xaxis": {
           "automargin": true,
           "gridcolor": "white",
           "linecolor": "white",
           "ticks": "",
           "title": {
            "standoff": 15
           },
           "zerolinecolor": "white",
           "zerolinewidth": 2
          },
          "yaxis": {
           "automargin": true,
           "gridcolor": "white",
           "linecolor": "white",
           "ticks": "",
           "title": {
            "standoff": 15
           },
           "zerolinecolor": "white",
           "zerolinewidth": 2
          }
         }
        },
        "title": {
         "text": "Média de Desconto por Categoria e Marca (Descontos > 0)"
        }
       }
      },
      "image/png": "[encoded data removed]",
      "text/html": [
       "<div>                            <div id=\"d1fde316-fd8a-489c-a204-6e96bde31069\" class=\"plotly-graph-div\" style=\"height:525px; width:100%;\"></div>            <script type=\"text/javascript\">                require([\"plotly\"], function(Plotly) {                    window.PLOTLYENV=window.PLOTLYENV || {};                                    if (document.getElementById(\"d1fde316-fd8a-489c-a204-6e96bde31069\")) {                    Plotly.newPlot(                        \"d1fde316-fd8a-489c-a204-6e96bde31069\",                        [{\"branchvalues\":\"total\",\"customdata\":[[123.75],[444.6666666666667],[590.0],[34.083333333333336],[650.0],[429.7857142857143],[357.5],[117.0952380952381],[4.471264367816092],[148.34285714285716],[16.318181818181817],[429.8666666666667],[252.25],[136.26666666666668],[55.166666666666664],[94.83333333333331],[955.0],[657.0],[19.5],[1.7674418604651163],[869.8],[103.45454545454545],[210.0],[160.0],[797.0],[88.55555555555556],[200.0],[684.8571428571429],[344.3333333333333],[304.5],[660.0],[795.0],[660.0],[795.0],[164.25],[70.0],[149.5],[456.15625],[300.0],[10.852941176470589],[120.0],[261.0],[546.0],[578.8140065831301],[200.0],[537.1966498262492],[592.403238503298]],\"domain\":{\"x\":[0.0,1.0],\"y\":[0.0,1.0]},\"hovertemplate\":\"labels=%{label}\\u003cbr\\u003eDesconto_sum=%{value}\\u003cbr\\u003eparent=%{parent}\\u003cbr\\u003eid=%{id}\\u003cbr\\u003eDesconto=%{color}\\u003cextra\\u003e\\u003c\\u002fextra\\u003e\",\"ids\":[\"belleza-y-cuidado-personal\\u002fAlways\",\"belleza-y-cuidado-personal\\u002fAquafresh\",\"belleza-y-cuidado-personal\\u002fAxe\",\"belleza-y-cuidado-personal\\u002fBallerina\",\"belleza-y-cuidado-personal\\u002fBiO\",\"congelados\\u002fBresler\",\"congelados\\u002fCarte Dor\",\"belleza-y-cuidado-personal\\u002fColgate\",\"lacteos\\u002fColun\",\"congelados\\u002fCuisine & Co\",\"lacteos\\u002fCuisine & Co\",\"belleza-y-cuidado-personal\\u002fDove\",\"belleza-y-cuidado-personal\\u002fDove Men\",\"congelados\\u002fFrutos Del Maipo\",\"belleza-y-cuidado-personal\\u002fKotex\",\"belleza-y-cuidado-personal\\u002fLadysoft\",\"congelados\\u002fMagnum\",\"congelados\\u002fMega\",\"congelados\\u002fMinuto Verde\",\"lacteos\\u002fNestl\\u00e9\",\"lacteos\\u002fNido\",\"belleza-y-cuidado-personal\\u002fNosotras\",\"congelados\\u002fNot Burger\",\"lacteos\\u002fNot Milk\",\"belleza-y-cuidado-personal\\u002fOral Fresh\",\"belleza-y-cuidado-personal\\u002fOral-B\",\"comidas-preparadas\\u002fPF\",\"belleza-y-cuidado-personal\\u002fPantene\",\"belleza-y-cuidado-personal\\u002fPepsodent\",\"belleza-y-cuidado-personal\\u002fProtex\",\"belleza-y-cuidado-personal\\u002fRexona\",\"belleza-y-cuidado-personal\\u002fRexona Clinical\",\"belleza-y-cuidado-personal\\u002fRexona Men\",\"belleza-y-cuidado-personal\\u002fRexona Men Clinical\",\"congelados\\u002fSahne Nuss\",\"congelados\\u002fSan Jorge\",\"lacteos\\u002fSanta Marta\",\"congelados\\u002fSavory\",\"belleza-y-cuidado-personal\\u002fSimonds\",\"lacteos\\u002fSoprole\",\"congelados\\u002fSuper Beef\",\"lacteos\\u002fSure\\u00f1a\",\"congelados\\u002fViennetta Bresler\",\"belleza-y-cuidado-personal\",\"comidas-preparadas\",\"congelados\",\"lacteos\"],\"labels\":[\"Always\",\"Aquafresh\",\"Axe\",\"Ballerina\",\"BiO\",\"Bresler\",\"Carte Dor\",\"Colgate\",\"Colun\",\"Cuisine & Co\",\"Cuisine & Co\",\"Dove\",\"Dove Men\",\"Frutos Del Maipo\",\"Kotex\",\"Ladysoft\",\"Magnum\",\"Mega\",\"Minuto Verde\",\"Nestl\\u00e9\",\"Nido\",\"Nosotras\",\"Not Burger\",\"Not Milk\",\"Oral Fresh\",\"Oral-B\",\"PF\",\"Pantene\",\"Pepsodent\",\"Protex\",\"Rexona\",\"Rexona Clinical\",\"Rexona Men\",\"Rexona Men Clinical\",\"Sahne Nuss\",\"San Jorge\",\"Santa Marta\",\"Savory\",\"Simonds\",\"Soprole\",\"Super Beef\",\"Sure\\u00f1a\",\"Viennetta Bresler\",\"belleza-y-cuidado-personal\",\"comidas-preparadas\",\"congelados\",\"lacteos\"],\"marker\":{\"coloraxis\":\"coloraxis\",\"colors\":[123.75,444.6666666666667,590.0,34.083333333333336,650.0,429.7857142857143,357.5,117.0952380952381,4.471264367816092,148.34285714285716,16.318181818181817,429.8666666666667,252.25,136.26666666666668,55.166666666666664,94.83333333333331,955.0,657.0,19.5,1.7674418604651163,869.8,103.45454545454545,210.0,160.0,797.0,88.55555555555556,200.0,684.8571428571429,344.3333333333333,304.5,660.0,795.0,660.0,795.0,164.25,70.0,149.5,456.15625,300.0,10.852941176470589,120.0,261.0,546.0,578.8140065831301,200.0,537.1966498262492,592.403238503298]},\"name\":\"\",\"parents\":[\"belleza-y-cuidado-personal\",\"belleza-y-cuidado-personal\",\"belleza-y-cuidado-personal\",\"belleza-y-cuidado-personal\",\"belleza-y-cuidado-personal\",\"congelados\",\"congelados\",\"belleza-y-cuidado-personal\",\"lacteos\",\"congelados\",\"lacteos\",\"belleza-y-cuidado-personal\",\"belleza-y-cuidado-personal\",\"congelados\",\"belleza-y-cuidado-personal\",\"belleza-y-cuidado-personal\",\"congelados\",\"congelados\",\"congelados\",\"lacteos\",\"lacteos\",\"belleza-y-cuidado-personal\",\"congelados\",\"lacteos\",\"belleza-y-cuidado-personal\",\"belleza-y-cuidado-personal\",\"comidas-preparadas\",\"belleza-y-cuidado-personal\",\"belleza-y-cuidado-personal\",\"belleza-y-cuidado-personal\",\"belleza-y-cuidado-personal\",\"belleza-y-cuidado-personal\",\"belleza-y-cuidado-personal\",\"belleza-y-cuidado-personal\",\"congelados\",\"congelados\",\"lacteos\",\"congelados\",\"belleza-y-cuidado-personal\",\"lacteos\",\"congelados\",\"lacteos\",\"congelados\",\"\",\"\",\"\",\"\"],\"values\":[123.75,444.6666666666667,590.0,34.083333333333336,650.0,429.7857142857143,357.5,117.0952380952381,4.471264367816092,148.34285714285716,16.318181818181817,429.8666666666667,252.25,136.26666666666668,55.166666666666664,94.83333333333333,955.0,657.0,19.5,1.7674418604651163,869.8,103.45454545454545,210.0,160.0,797.0,88.55555555555556,200.0,684.8571428571429,344.3333333333333,304.5,660.0,795.0,660.0,795.0,164.25,70.0,149.5,456.15625,300.0,10.852941176470589,120.0,261.0,546.0,8324.412481962481,200.0,4269.801488095238,1473.7098292229334],\"type\":\"treemap\"}],                        {\"template\":{\"data\":{\"histogram2dcontour\":[{\"type\":\"histogram2dcontour\",\"colorbar\":{\"outlinewidth\":0,\"ticks\":\"\"},\"colorscale\":[[0.0,\"#0d0887\"],[0.1111111111111111,\"#46039f\"],[0.2222222222222222,\"#7201a8\"],[0.3333333333333333,\"#9c179e\"],[0.4444444444444444,\"#bd3786\"],[0.5555555555555556,\"#d8576b\"],[0.6666666666666666,\"#ed7953\"],[0.7777777777777778,\"#fb9f3a\"],[0.8888888888888888,\"#fdca26\"],[1.0,\"#f0f921\"]]}],\"choropleth\":[{\"type\":\"choropleth\",\"colorbar\":{\"outlinewidth\":0,\"ticks\":\"\"}}],\"histogram2d\":[{\"type\":\"histogram2d\",\"colorbar\":{\"outlinewidth\":0,\"ticks\":\"\"},\"colorscale\":[[0.0,\"#0d0887\"],[0.1111111111111111,\"#46039f\"],[0.2222222222222222,\"#7201a8\"],[0.3333333333333333,\"#9c179e\"],[0.4444444444444444,\"#bd3786\"],[0.5555555555555556,\"#d8576b\"],[0.6666666666666666,\"#ed7953\"],[0.7777777777777778,\"#fb9f3a\"],[0.8888888888888888,\"#fdca26\"],[1.0,\"#f0f921\"]]}],\"heatmap\":[{\"type\":\"heatmap\",\"colorbar\":{\"outlinewidth\":0,\"ticks\":\"\"},\"colorscale\":[[0.0,\"#0d0887\"],[0.1111111111111111,\"#46039f\"],[0.2222222222222222,\"#7201a8\"],[0.3333333333333333,\"#9c179e\"],[0.4444444444444444,\"#bd3786\"],[0.5555555555555556,\"#d8576b\"],[0.6666666666666666,\"#ed7953\"],[0.7777777777777778,\"#fb9f3a\"],[0.8888888888888888,\"#fdca26\"],[1.0,\"#f0f921\"]]}],\"heatmapgl\":[{\"type\":\"heatmapgl\",\"colorbar\":{\"outlinewidth\":0,\"ticks\":\"\"},\"colorscale\":[[0.0,\"#0d0887\"],[0.1111111111111111,\"#46039f\"],[0.2222222222222222,\"#7201a8\"],[0.3333333333333333,\"#9c179e\"],[0.4444444444444444,\"#bd3786\"],[0.5555555555555556,\"#d8576b\"],[0.6666666666666666,\"#ed7953\"],[0.7777777777777778,\"#fb9f3a\"],[0.8888888888888888,\"#fdca26\"],[1.0,\"#f0f921\"]]}],\"contourcarpet\":[{\"type\":\"contourcarpet\",\"colorbar\":{\"outlinewidth\":0,\"ticks\":\"\"}}],\"contour\":[{\"type\":\"contour\",\"colorbar\":{\"outlinewidth\":0,\"ticks\":\"\"},\"colorscale\":[[0.0,\"#0d0887\"],[0.1111111111111111,\"#46039f\"],[0.2222222222222222,\"#7201a8\"],[0.3333333333333333,\"#9c179e\"],[0.4444444444444444,\"#bd3786\"],[0.5555555555555556,\"#d8576b\"],[0.6666666666666666,\"#ed7953\"],[0.7777777777777778,\"#fb9f3a\"],[0.8888888888888888,\"#fdca26\"],[1.0,\"#f0f921\"]]}],\"surface\":[{\"type\":\"surface\",\"colorbar\":{\"outlinewidth\":0,\"ticks\":\"\"},\"colorscale\":[[0.0,\"#0d0887\"],[0.1111111111111111,\"#46039f\"],[0.2222222222222222,\"#7201a8\"],[0.3333333333333333,\"#9c179e\"],[0.4444444444444444,\"#bd3786\"],[0.5555555555555556,\"#d8576b\"],[0.6666666666666666,\"#ed7953\"],[0.7777777777777778,\"#fb9f3a\"],[0.8888888888888888,\"#fdca26\"],[1.0,\"#f0f921\"]]}],\"mesh3d\":[{\"type\":\"mesh3d\",\"colorbar\":{\"outlinewidth\":0,\"ticks\":\"\"}}],\"scatter\":[{\"fillpattern\":{\"fillmode\":\"overlay\",\"size\":10,\"solidity\":0.2},\"type\":\"scatter\"}],\"parcoords\":[{\"type\":\"parcoords\",\"line\":{\"colorbar\":{\"outlinewidth\":0,\"ticks\":\"\"}}}],\"scatterpolargl\":[{\"type\":\"scatterpolargl\",\"marker\":{\"colorbar\":{\"outlinewidth\":0,\"ticks\":\"\"}}}],\"bar\":[{\"error_x\":{\"color\":\"#2a3f5f\"},\"error_y\":{\"color\":\"#2a3f5f\"},\"marker\":{\"line\":{\"color\":\"#E5ECF6\",\"width\":0.5},\"pattern\":{\"fillmode\":\"overlay\",\"size\":10,\"solidity\":0.2}},\"type\":\"bar\"}],\"scattergeo\":[{\"type\":\"scattergeo\",\"marker\":{\"colorbar\":{\"outlinewidth\":0,\"ticks\":\"\"}}}],\"scatterpolar\":[{\"type\":\"scatterpolar\",\"marker\":{\"colorbar\":{\"outlinewidth\":0,\"ticks\":\"\"}}}],\"histogram\":[{\"marker\":{\"pattern\":{\"fillmode\":\"overlay\",\"size\":10,\"solidity\":0.2}},\"type\":\"histogram\"}],\"scattergl\":[{\"type\":\"scattergl\",\"marker\":{\"colorbar\":{\"outlinewidth\":0,\"ticks\":\"\"}}}],\"scatter3d\":[{\"type\":\"scatter3d\",\"line\":{\"colorbar\":{\"outlinewidth\":0,\"ticks\":\"\"}},\"marker\":{\"colorbar\":{\"outlinewidth\":0,\"ticks\":\"\"}}}],\"scattermapbox\":[{\"type\":\"scattermapbox\",\"marker\":{\"colorbar\":{\"outlinewidth\":0,\"ticks\":\"\"}}}],\"scatterternary\":[{\"type\":\"scatterternary\",\"marker\":{\"colorbar\":{\"outlinewidth\":0,\"ticks\":\"\"}}}],\"scattercarpet\":[{\"type\":\"scattercarpet\",\"marker\":{\"colorbar\":{\"outlinewidth\":0,\"ticks\":\"\"}}}],\"carpet\":[{\"aaxis\":{\"endlinecolor\":\"#2a3f5f\",\"gridcolor\":\"white\",\"linecolor\":\"white\",\"minorgridcolor\":\"white\",\"startlinecolor\":\"#2a3f5f\"},\"baxis\":{\"endlinecolor\":\"#2a3f5f\",\"gridcolor\":\"white\",\"linecolor\":\"white\",\"minorgridcolor\":\"white\",\"startlinecolor\":\"#2a3f5f\"},\"type\":\"carpet\"}],\"table\":[{\"cells\":{\"fill\":{\"color\":\"#EBF0F8\"},\"line\":{\"color\":\"white\"}},\"header\":{\"fill\":{\"color\":\"#C8D4E3\"},\"line\":{\"color\":\"white\"}},\"type\":\"table\"}],\"barpolar\":[{\"marker\":{\"line\":{\"color\":\"#E5ECF6\",\"width\":0.5},\"pattern\":{\"fillmode\":\"overlay\",\"size\":10,\"solidity\":0.2}},\"type\":\"barpolar\"}],\"pie\":[{\"automargin\":true,\"type\":\"pie\"}]},\"layout\":{\"autotypenumbers\":\"strict\",\"colorway\":[\"#636efa\",\"#EF553B\",\"#00cc96\",\"#ab63fa\",\"#FFA15A\",\"#19d3f3\",\"#FF6692\",\"#B6E880\",\"#FF97FF\",\"#FECB52\"],\"font\":{\"color\":\"#2a3f5f\"},\"hovermode\":\"closest\",\"hoverlabel\":{\"align\":\"left\"},\"paper_bgcolor\":\"white\",\"plot_bgcolor\":\"#E5ECF6\",\"polar\":{\"bgcolor\":\"#E5ECF6\",\"angularaxis\":{\"gridcolor\":\"white\",\"linecolor\":\"white\",\"ticks\":\"\"},\"radialaxis\":{\"gridcolor\":\"white\",\"linecolor\":\"white\",\"ticks\":\"\"}},\"ternary\":{\"bgcolor\":\"#E5ECF6\",\"aaxis\":{\"gridcolor\":\"white\",\"linecolor\":\"white\",\"ticks\":\"\"},\"baxis\":{\"gridcolor\":\"white\",\"linecolor\":\"white\",\"ticks\":\"\"},\"caxis\":{\"gridcolor\":\"white\",\"linecolor\":\"white\",\"ticks\":\"\"}},\"coloraxis\":{\"colorbar\":{\"outlinewidth\":0,\"ticks\":\"\"}},\"colorscale\":{\"sequential\":[[0.0,\"#0d0887\"],[0.1111111111111111,\"#46039f\"],[0.2222222222222222,\"#7201a8\"],[0.3333333333333333,\"#9c179e\"],[0.4444444444444444,\"#bd3786\"],[0.5555555555555556,\"#d8576b\"],[0.6666666666666666,\"#ed7953\"],[0.7777777777777778,\"#fb9f3a\"],[0.8888888888888888,\"#fdca26\"],[1.0,\"#f0f921\"]],\"sequentialminus\":[[0.0,\"#0d0887\"],[0.1111111111111111,\"#46039f\"],[0.2222222222222222,\"#7201a8\"],[0.3333333333333333,\"#9c179e\"],[0.4444444444444444,\"#bd3786\"],[0.5555555555555556,\"#d8576b\"],[0.6666666666666666,\"#ed7953\"],[0.7777777777777778,\"#fb9f3a\"],[0.8888888888888888,\"#fdca26\"],[1.0,\"#f0f921\"]],\"diverging\":[[0,\"#8e0152\"],[0.1,\"#c51b7d\"],[0.2,\"#de77ae\"],[0.3,\"#f1b6da\"],[0.4,\"#fde0ef\"],[0.5,\"#f7f7f7\"],[0.6,\"#e6f5d0\"],[0.7,\"#b8e186\"],[0.8,\"#7fbc41\"],[0.9,\"#4d9221\"],[1,\"#276419\"]]},\"xaxis\":{\"gridcolor\":\"white\",\"linecolor\":\"white\",\"ticks\":\"\",\"title\":{\"standoff\":15},\"zerolinecolor\":\"white\",\"automargin\":true,\"zerolinewidth\":2},\"yaxis\":{\"gridcolor\":\"white\",\"linecolor\":\"white\",\"ticks\":\"\",\"title\":{\"standoff\":15},\"zerolinecolor\":\"white\",\"automargin\":true,\"zerolinewidth\":2},\"scene\":{\"xaxis\":{\"backgroundcolor\":\"#E5ECF6\",\"gridcolor\":\"white\",\"linecolor\":\"white\",\"showbackground\":true,\"ticks\":\"\",\"zerolinecolor\":\"white\",\"gridwidth\":2},\"yaxis\":{\"backgroundcolor\":\"#E5ECF6\",\"gridcolor\":\"white\",\"linecolor\":\"white\",\"showbackground\":true,\"ticks\":\"\",\"zerolinecolor\":\"white\",\"gridwidth\":2},\"zaxis\":{\"backgroundcolor\":\"#E5ECF6\",\"gridcolor\":\"white\",\"linecolor\":\"white\",\"showbackground\":true,\"ticks\":\"\",\"zerolinecolor\":\"white\",\"gridwidth\":2}},\"shapedefaults\":{\"line\":{\"color\":\"#2a3f5f\"}},\"annotationdefaults\":{\"arrowcolor\":\"#2a3f5f\",\"arrowhead\":0,\"arrowwidth\":1},\"geo\":{\"bgcolor\":\"white\",\"landcolor\":\"#E5ECF6\",\"subunitcolor\":\"white\",\"showland\":true,\"showlakes\":true,\"lakecolor\":\"white\"},\"title\":{\"x\":0.05},\"mapbox\":{\"style\":\"light\"}}},\"coloraxis\":{\"colorbar\":{\"title\":{\"text\":\"Desconto\"}},\"colorscale\":[[0.0,\"rgb(247,251,255)\"],[0.125,\"rgb(222,235,247)\"],[0.25,\"rgb(198,219,239)\"],[0.375,\"rgb(158,202,225)\"],[0.5,\"rgb(107,174,214)\"],[0.625,\"rgb(66,146,198)\"],[0.75,\"rgb(33,113,181)\"],[0.875,\"rgb(8,81,156)\"],[1.0,\"rgb(8,48,107)\"]]},\"legend\":{\"tracegroupgap\":0},\"title\":{\"text\":\"M\\u00e9dia de Desconto por Categoria e Marca (Descontos \\u003e 0)\"}},                        {\"responsive\": true}                    ).then(function(){\n",
       "                            \n",
       "var gd = document.getElementById('d1fde316-fd8a-489c-a204-6e96bde31069');\n",
       "var x = new MutationObserver(function (mutations, observer) {{\n",
       "        var display = window.getComputedStyle(gd).display;\n",
       "        if (!display || display === 'none') {{\n",
       "            console.log([gd, 'removed!']);\n",
       "            Plotly.purge(gd);\n",
       "            observer.disconnect();\n",
       "        }}\n",
       "}});\n",
       "\n",
       "// Listen for the removal of the full notebook cells\n",
       "var notebookContainer = gd.closest('#notebook-container');\n",
       "if (notebookContainer) {{\n",
       "    x.observe(notebookContainer, {childList: true});\n",
       "}}\n",
       "\n",
       "// Listen for the clearing of the current output cell\n",
       "var outputEl = gd.closest('.output');\n",
       "if (outputEl) {{\n",
       "    x.observe(outputEl, {childList: true});\n",
       "}}\n",
       "\n",
       "                        })                };                });            </script>        </div>"
      ]
     },
     "metadata": {},
     "output_type": "display_data"
    }
   ],
   "source": [
    "df_grouped = df_grouped[df_grouped['Desconto'] > 0]\n",
    "\n",
    "fig = px.treemap(\n",
    "    df_grouped,\n",
    "    path=['Categoria', 'Marca'],\n",
    "    values='Desconto',\n",
    "    color='Desconto',\n",
    "    color_continuous_scale='Blues',\n",
    "    title='Média de Desconto por Categoria e Marca (Descontos > 0)'\n",
    ")\n",
    "\n",
    "fig.show()\n",
    "\n"
   ]
  },
  {
   "cell_type": "code",
   "execution_count": null,
   "metadata": {},
   "outputs": [],
   "source": []
  }
 ],
 "metadata": {
  "colab": {
   "provenance": []
  },
  "kernelspec": {
   "display_name": "Python 3 (ipykernel)",
   "language": "python",
   "name": "python3"
  },
  "language_info": {
   "codemirror_mode": {
    "name": "ipython",
    "version": 3
   },
   "file_extension": ".py",
   "mimetype": "text/x-python",
   "name": "python",
   "nbconvert_exporter": "python",
   "pygments_lexer": "ipython3",
   "version": "3.12.7"
  }
 },
 "nbformat": 4,
 "nbformat_minor": 4
}
